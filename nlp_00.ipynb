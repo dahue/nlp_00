{
 "cells": [
  {
   "cell_type": "code",
   "execution_count": 1,
   "metadata": {},
   "outputs": [],
   "source": [
    "# Spam classificator using pre-processed data\n",
    "\n",
    "from sklearn.naive_bayes import MultinomialNB\n",
    "from sklearn.svm import LinearSVC\n",
    "from sklearn.linear_model import LogisticRegression\n",
    "# Keep it simple at first using more bsic classifiesrs\n",
    "import pandas as pd\n",
    "import numpy as np"
   ]
  },
  {
   "cell_type": "code",
   "execution_count": 2,
   "metadata": {},
   "outputs": [],
   "source": [
    "# Load dataset\n",
    "data = pd.read_csv('dataset/spambase.data').values\n",
    "\n",
    "# Shuffle data randomly\n",
    "np.random.shuffle(data)"
   ]
  },
  {
   "cell_type": "code",
   "execution_count": 3,
   "metadata": {},
   "outputs": [],
   "source": [
    "# Data from row 0 to last, from col 0 to 48\n",
    "X = data[:, :48]\n",
    "\n",
    "# Data from row 0 to last, just last column\n",
    "Y = data[:, -1]"
   ]
  },
  {
   "cell_type": "code",
   "execution_count": 4,
   "metadata": {},
   "outputs": [],
   "source": [
    "# Training set from row 0 to last-100\n",
    "X_train = X[:-100,]\n",
    "Y_train = Y[:-100,]\n",
    "\n",
    "# Test set from row last-100 to last\n",
    "X_test = X[-100:,]\n",
    "Y_test = Y[-100:,]"
   ]
  },
  {
   "cell_type": "code",
   "execution_count": 5,
   "metadata": {},
   "outputs": [
    {
     "name": "stdout",
     "output_type": "stream",
     "text": [
      "Classification rate for Multinomial NB: 0.91\n"
     ]
    }
   ],
   "source": [
    "# Construct the model\n",
    "model = MultinomialNB()\n",
    "\n",
    "# And train it\n",
    "model.fit(X_train, Y_train)\n",
    "\n",
    "print('Classification rate for Multinomial NB: {}'.format(model.score(X_test, Y_test)))"
   ]
  },
  {
   "cell_type": "code",
   "execution_count": 6,
   "metadata": {},
   "outputs": [
    {
     "name": "stdout",
     "output_type": "stream",
     "text": [
      "Classification rate for Logistic Regression: 0.93\n"
     ]
    }
   ],
   "source": [
    "model = LogisticRegression(random_state=0, solver='lbfgs', multi_class='multinomial', max_iter=200)\n",
    "model.fit(X_train, Y_train)\n",
    "print('Classification rate for Logistic Regression: {}'.format(model.score(X_test, Y_test)))"
   ]
  },
  {
   "cell_type": "code",
   "execution_count": 7,
   "metadata": {},
   "outputs": [
    {
     "name": "stdout",
     "output_type": "stream",
     "text": [
      "Classification rate for Linear Support Vector: 0.93\n"
     ]
    }
   ],
   "source": [
    "model = LinearSVC(random_state=0, max_iter=8000)\n",
    "model.fit(X_train, Y_train)\n",
    "print('Classification rate for Linear Support Vector: {}'.format(model.score(X_test, Y_test)))"
   ]
  },
  {
   "cell_type": "code",
   "execution_count": null,
   "metadata": {},
   "outputs": [],
   "source": []
  }
 ],
 "metadata": {
  "kernelspec": {
   "display_name": "Python 3",
   "language": "python",
   "name": "python3"
  },
  "language_info": {
   "codemirror_mode": {
    "name": "ipython",
    "version": 3
   },
   "file_extension": ".py",
   "mimetype": "text/x-python",
   "name": "python",
   "nbconvert_exporter": "python",
   "pygments_lexer": "ipython3",
   "version": "3.6.7"
  }
 },
 "nbformat": 4,
 "nbformat_minor": 2
}
