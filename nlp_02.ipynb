{
 "cells": [
  {
   "cell_type": "code",
   "execution_count": 1,
   "metadata": {},
   "outputs": [],
   "source": [
    "# Implementation of CountVectorizer and Tf-Idf\n",
    "\n",
    "import pandas as pd\n",
    "import numpy as np\n",
    "from collections import Counter\n",
    "from math import log\n",
    "\n",
    "# The super inefficient way...\n",
    "def tf(t, d):\n",
    "    n = 0\n",
    "    t = t.lower()\n",
    "    d = d.lower().split(' ')\n",
    "    for term in d:\n",
    "        if t == term:\n",
    "            n +=1\n",
    "    return n \n",
    "    \n",
    "def idf(t, D):\n",
    "    n = 0\n",
    "    for document in D:\n",
    "        if t in document.split(' '):\n",
    "            n +=1\n",
    "    return log(len(D) / n)\n",
    "\n",
    "# implementation of CountVector\n",
    "# def countVectorizer(data):\n",
    "#     # Aka tf(t, d) where t: term, d: document\n",
    "#     d = dict()\n",
    "#     for s in data:\n",
    "#         s = s.lower()\n",
    "#         tokens = s.split(' ')\n",
    "#         for token in tokens:\n",
    "#             # if the key does not exist, it returns a default value (0)\n",
    "#             val = d.get(token, 0) + 1\n",
    "#             d[token] = val\n",
    "#     return d\n",
    "    \n",
    "def countVectorizer(data):\n",
    "    d = dict()\n",
    "    vocab = set()\n",
    "    for document in data:\n",
    "        document = document.lower()\n",
    "        tokens = document.split()\n",
    "        vocab = vocab.union(set(tokens))\n",
    "\n",
    "    for document in data:\n",
    "        for term in vocab:\n",
    "            d[term] = d.get(term, 0) + tf(term, document)\n",
    "    return d\n",
    "\n",
    "def tfidf(data):\n",
    "    d = dict()\n",
    "    vocab = set()\n",
    "    for document in data:\n",
    "        document = document.lower()\n",
    "        tokens = document.split()\n",
    "        vocab = vocab.union(set(tokens))\n",
    "    \n",
    "    for document in data:\n",
    "        for term in vocab:\n",
    "            d[term] = d.get(term, 0) + tf(term, document) * idf(term, data)\n",
    "    return d\n",
    "        \n",
    "    "
   ]
  },
  {
   "cell_type": "code",
   "execution_count": 2,
   "metadata": {},
   "outputs": [],
   "source": [
    "a = ['holis como a va', 'va a todo bien', 'holis a chauchis', 'holis a']"
   ]
  },
  {
   "cell_type": "code",
   "execution_count": 3,
   "metadata": {},
   "outputs": [
    {
     "data": {
      "text/plain": [
       "{'como': 1, 'chauchis': 1, 'bien': 1, 'holis': 3, 'a': 4, 'va': 2, 'todo': 1}"
      ]
     },
     "execution_count": 3,
     "metadata": {},
     "output_type": "execute_result"
    }
   ],
   "source": [
    "countVectorizer(a)"
   ]
  },
  {
   "cell_type": "code",
   "execution_count": 4,
   "metadata": {},
   "outputs": [
    {
     "data": {
      "text/plain": [
       "{'como': 1.3862943611198906,\n",
       " 'chauchis': 1.3862943611198906,\n",
       " 'bien': 1.3862943611198906,\n",
       " 'holis': 0.8630462173553426,\n",
       " 'a': 0.0,\n",
       " 'va': 1.3862943611198906,\n",
       " 'todo': 1.3862943611198906}"
      ]
     },
     "execution_count": 4,
     "metadata": {},
     "output_type": "execute_result"
    }
   ],
   "source": [
    "tfidf(a)"
   ]
  },
  {
   "cell_type": "code",
   "execution_count": null,
   "metadata": {},
   "outputs": [],
   "source": []
  }
 ],
 "metadata": {
  "kernelspec": {
   "display_name": "Python 3",
   "language": "python",
   "name": "python3"
  },
  "language_info": {
   "codemirror_mode": {
    "name": "ipython",
    "version": 3
   },
   "file_extension": ".py",
   "mimetype": "text/x-python",
   "name": "python",
   "nbconvert_exporter": "python",
   "pygments_lexer": "ipython3",
   "version": "3.6.7"
  }
 },
 "nbformat": 4,
 "nbformat_minor": 2
}
